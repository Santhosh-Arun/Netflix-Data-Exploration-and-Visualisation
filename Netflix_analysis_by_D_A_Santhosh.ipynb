{
  "nbformat": 4,
  "nbformat_minor": 0,
  "metadata": {
    "colab": {
      "provenance": []
    },
    "kernelspec": {
      "name": "python3",
      "display_name": "Python 3"
    },
    "language_info": {
      "name": "python"
    }
  },
  "cells": [
    {
      "cell_type": "markdown",
      "source": [
        "D A Santhosh\n",
        "\n",
        "\n",
        "\n",
        "\n"
      ],
      "metadata": {
        "id": "ZFBnM5MzBi0r"
      }
    },
    {
      "cell_type": "markdown",
      "source": [
        "#Netflix Analysis"
      ],
      "metadata": {
        "id": "MbTtHWtt-mCT"
      }
    },
    {
      "cell_type": "code",
      "source": [
        "import numpy as np\n",
        "import pandas as pd\n",
        "\n",
        "import matplotlib.pyplot as plt\n",
        "import seaborn as sns"
      ],
      "metadata": {
        "id": "lJzC2ioT-3gU"
      },
      "execution_count": null,
      "outputs": []
    },
    {
      "cell_type": "code",
      "source": [
        "df = pd.read_csv('netflix.csv')\n",
        "df.shape"
      ],
      "metadata": {
        "colab": {
          "base_uri": "https://localhost:8080/"
        },
        "id": "UT6ZporG_cpS",
        "outputId": "75a3580e-8908-43aa-efad-cc77ee368108"
      },
      "execution_count": null,
      "outputs": [
        {
          "output_type": "execute_result",
          "data": {
            "text/plain": [
              "(8807, 12)"
            ]
          },
          "metadata": {},
          "execution_count": 3
        }
      ]
    },
    {
      "cell_type": "markdown",
      "source": [
        "#Information of the data"
      ],
      "metadata": {
        "id": "1wNLadD2KMB4"
      }
    },
    {
      "cell_type": "code",
      "source": [
        "df.info()"
      ],
      "metadata": {
        "colab": {
          "base_uri": "https://localhost:8080/"
        },
        "id": "t4NoKaZSJ_Zs",
        "outputId": "d11c9264-b728-4405-fe7e-91fd7ed30f2a"
      },
      "execution_count": null,
      "outputs": [
        {
          "output_type": "stream",
          "name": "stdout",
          "text": [
            "<class 'pandas.core.frame.DataFrame'>\n",
            "RangeIndex: 8807 entries, 0 to 8806\n",
            "Data columns (total 12 columns):\n",
            " #   Column        Non-Null Count  Dtype \n",
            "---  ------        --------------  ----- \n",
            " 0   show_id       8807 non-null   object\n",
            " 1   type          8807 non-null   object\n",
            " 2   title         8807 non-null   object\n",
            " 3   director      6173 non-null   object\n",
            " 4   cast          7982 non-null   object\n",
            " 5   country       7976 non-null   object\n",
            " 6   date_added    8797 non-null   object\n",
            " 7   release_year  8807 non-null   int64 \n",
            " 8   rating        8803 non-null   object\n",
            " 9   duration      8804 non-null   object\n",
            " 10  listed_in     8807 non-null   object\n",
            " 11  description   8807 non-null   object\n",
            "dtypes: int64(1), object(11)\n",
            "memory usage: 825.8+ KB\n"
          ]
        }
      ]
    },
    {
      "cell_type": "code",
      "source": [
        "df.describe()"
      ],
      "metadata": {
        "colab": {
          "base_uri": "https://localhost:8080/",
          "height": 300
        },
        "id": "fXZ_-vQOKg9l",
        "outputId": "0cdd49a0-fd50-4581-805f-e4693fa1c5a0"
      },
      "execution_count": null,
      "outputs": [
        {
          "output_type": "execute_result",
          "data": {
            "text/plain": [
              "       release_year\n",
              "count   8807.000000\n",
              "mean    2014.180198\n",
              "std        8.819312\n",
              "min     1925.000000\n",
              "25%     2013.000000\n",
              "50%     2017.000000\n",
              "75%     2019.000000\n",
              "max     2021.000000"
            ],
            "text/html": [
              "\n",
              "  <div id=\"df-753eea70-1c8c-4e0e-836d-be8e4d056988\" class=\"colab-df-container\">\n",
              "    <div>\n",
              "<style scoped>\n",
              "    .dataframe tbody tr th:only-of-type {\n",
              "        vertical-align: middle;\n",
              "    }\n",
              "\n",
              "    .dataframe tbody tr th {\n",
              "        vertical-align: top;\n",
              "    }\n",
              "\n",
              "    .dataframe thead th {\n",
              "        text-align: right;\n",
              "    }\n",
              "</style>\n",
              "<table border=\"1\" class=\"dataframe\">\n",
              "  <thead>\n",
              "    <tr style=\"text-align: right;\">\n",
              "      <th></th>\n",
              "      <th>release_year</th>\n",
              "    </tr>\n",
              "  </thead>\n",
              "  <tbody>\n",
              "    <tr>\n",
              "      <th>count</th>\n",
              "      <td>8807.000000</td>\n",
              "    </tr>\n",
              "    <tr>\n",
              "      <th>mean</th>\n",
              "      <td>2014.180198</td>\n",
              "    </tr>\n",
              "    <tr>\n",
              "      <th>std</th>\n",
              "      <td>8.819312</td>\n",
              "    </tr>\n",
              "    <tr>\n",
              "      <th>min</th>\n",
              "      <td>1925.000000</td>\n",
              "    </tr>\n",
              "    <tr>\n",
              "      <th>25%</th>\n",
              "      <td>2013.000000</td>\n",
              "    </tr>\n",
              "    <tr>\n",
              "      <th>50%</th>\n",
              "      <td>2017.000000</td>\n",
              "    </tr>\n",
              "    <tr>\n",
              "      <th>75%</th>\n",
              "      <td>2019.000000</td>\n",
              "    </tr>\n",
              "    <tr>\n",
              "      <th>max</th>\n",
              "      <td>2021.000000</td>\n",
              "    </tr>\n",
              "  </tbody>\n",
              "</table>\n",
              "</div>\n",
              "    <div class=\"colab-df-buttons\">\n",
              "\n",
              "  <div class=\"colab-df-container\">\n",
              "    <button class=\"colab-df-convert\" onclick=\"convertToInteractive('df-753eea70-1c8c-4e0e-836d-be8e4d056988')\"\n",
              "            title=\"Convert this dataframe to an interactive table.\"\n",
              "            style=\"display:none;\">\n",
              "\n",
              "  <svg xmlns=\"http://www.w3.org/2000/svg\" height=\"24px\" viewBox=\"0 -960 960 960\">\n",
              "    <path d=\"M120-120v-720h720v720H120Zm60-500h600v-160H180v160Zm220 220h160v-160H400v160Zm0 220h160v-160H400v160ZM180-400h160v-160H180v160Zm440 0h160v-160H620v160ZM180-180h160v-160H180v160Zm440 0h160v-160H620v160Z\"/>\n",
              "  </svg>\n",
              "    </button>\n",
              "\n",
              "  <style>\n",
              "    .colab-df-container {\n",
              "      display:flex;\n",
              "      gap: 12px;\n",
              "    }\n",
              "\n",
              "    .colab-df-convert {\n",
              "      background-color: #E8F0FE;\n",
              "      border: none;\n",
              "      border-radius: 50%;\n",
              "      cursor: pointer;\n",
              "      display: none;\n",
              "      fill: #1967D2;\n",
              "      height: 32px;\n",
              "      padding: 0 0 0 0;\n",
              "      width: 32px;\n",
              "    }\n",
              "\n",
              "    .colab-df-convert:hover {\n",
              "      background-color: #E2EBFA;\n",
              "      box-shadow: 0px 1px 2px rgba(60, 64, 67, 0.3), 0px 1px 3px 1px rgba(60, 64, 67, 0.15);\n",
              "      fill: #174EA6;\n",
              "    }\n",
              "\n",
              "    .colab-df-buttons div {\n",
              "      margin-bottom: 4px;\n",
              "    }\n",
              "\n",
              "    [theme=dark] .colab-df-convert {\n",
              "      background-color: #3B4455;\n",
              "      fill: #D2E3FC;\n",
              "    }\n",
              "\n",
              "    [theme=dark] .colab-df-convert:hover {\n",
              "      background-color: #434B5C;\n",
              "      box-shadow: 0px 1px 3px 1px rgba(0, 0, 0, 0.15);\n",
              "      filter: drop-shadow(0px 1px 2px rgba(0, 0, 0, 0.3));\n",
              "      fill: #FFFFFF;\n",
              "    }\n",
              "  </style>\n",
              "\n",
              "    <script>\n",
              "      const buttonEl =\n",
              "        document.querySelector('#df-753eea70-1c8c-4e0e-836d-be8e4d056988 button.colab-df-convert');\n",
              "      buttonEl.style.display =\n",
              "        google.colab.kernel.accessAllowed ? 'block' : 'none';\n",
              "\n",
              "      async function convertToInteractive(key) {\n",
              "        const element = document.querySelector('#df-753eea70-1c8c-4e0e-836d-be8e4d056988');\n",
              "        const dataTable =\n",
              "          await google.colab.kernel.invokeFunction('convertToInteractive',\n",
              "                                                    [key], {});\n",
              "        if (!dataTable) return;\n",
              "\n",
              "        const docLinkHtml = 'Like what you see? Visit the ' +\n",
              "          '<a target=\"_blank\" href=https://colab.research.google.com/notebooks/data_table.ipynb>data table notebook</a>'\n",
              "          + ' to learn more about interactive tables.';\n",
              "        element.innerHTML = '';\n",
              "        dataTable['output_type'] = 'display_data';\n",
              "        await google.colab.output.renderOutput(dataTable, element);\n",
              "        const docLink = document.createElement('div');\n",
              "        docLink.innerHTML = docLinkHtml;\n",
              "        element.appendChild(docLink);\n",
              "      }\n",
              "    </script>\n",
              "  </div>\n",
              "\n",
              "\n",
              "<div id=\"df-a5b75701-a8b2-407c-a697-2f08a436740f\">\n",
              "  <button class=\"colab-df-quickchart\" onclick=\"quickchart('df-a5b75701-a8b2-407c-a697-2f08a436740f')\"\n",
              "            title=\"Suggest charts\"\n",
              "            style=\"display:none;\">\n",
              "\n",
              "<svg xmlns=\"http://www.w3.org/2000/svg\" height=\"24px\"viewBox=\"0 0 24 24\"\n",
              "     width=\"24px\">\n",
              "    <g>\n",
              "        <path d=\"M19 3H5c-1.1 0-2 .9-2 2v14c0 1.1.9 2 2 2h14c1.1 0 2-.9 2-2V5c0-1.1-.9-2-2-2zM9 17H7v-7h2v7zm4 0h-2V7h2v10zm4 0h-2v-4h2v4z\"/>\n",
              "    </g>\n",
              "</svg>\n",
              "  </button>\n",
              "\n",
              "<style>\n",
              "  .colab-df-quickchart {\n",
              "      --bg-color: #E8F0FE;\n",
              "      --fill-color: #1967D2;\n",
              "      --hover-bg-color: #E2EBFA;\n",
              "      --hover-fill-color: #174EA6;\n",
              "      --disabled-fill-color: #AAA;\n",
              "      --disabled-bg-color: #DDD;\n",
              "  }\n",
              "\n",
              "  [theme=dark] .colab-df-quickchart {\n",
              "      --bg-color: #3B4455;\n",
              "      --fill-color: #D2E3FC;\n",
              "      --hover-bg-color: #434B5C;\n",
              "      --hover-fill-color: #FFFFFF;\n",
              "      --disabled-bg-color: #3B4455;\n",
              "      --disabled-fill-color: #666;\n",
              "  }\n",
              "\n",
              "  .colab-df-quickchart {\n",
              "    background-color: var(--bg-color);\n",
              "    border: none;\n",
              "    border-radius: 50%;\n",
              "    cursor: pointer;\n",
              "    display: none;\n",
              "    fill: var(--fill-color);\n",
              "    height: 32px;\n",
              "    padding: 0;\n",
              "    width: 32px;\n",
              "  }\n",
              "\n",
              "  .colab-df-quickchart:hover {\n",
              "    background-color: var(--hover-bg-color);\n",
              "    box-shadow: 0 1px 2px rgba(60, 64, 67, 0.3), 0 1px 3px 1px rgba(60, 64, 67, 0.15);\n",
              "    fill: var(--button-hover-fill-color);\n",
              "  }\n",
              "\n",
              "  .colab-df-quickchart-complete:disabled,\n",
              "  .colab-df-quickchart-complete:disabled:hover {\n",
              "    background-color: var(--disabled-bg-color);\n",
              "    fill: var(--disabled-fill-color);\n",
              "    box-shadow: none;\n",
              "  }\n",
              "\n",
              "  .colab-df-spinner {\n",
              "    border: 2px solid var(--fill-color);\n",
              "    border-color: transparent;\n",
              "    border-bottom-color: var(--fill-color);\n",
              "    animation:\n",
              "      spin 1s steps(1) infinite;\n",
              "  }\n",
              "\n",
              "  @keyframes spin {\n",
              "    0% {\n",
              "      border-color: transparent;\n",
              "      border-bottom-color: var(--fill-color);\n",
              "      border-left-color: var(--fill-color);\n",
              "    }\n",
              "    20% {\n",
              "      border-color: transparent;\n",
              "      border-left-color: var(--fill-color);\n",
              "      border-top-color: var(--fill-color);\n",
              "    }\n",
              "    30% {\n",
              "      border-color: transparent;\n",
              "      border-left-color: var(--fill-color);\n",
              "      border-top-color: var(--fill-color);\n",
              "      border-right-color: var(--fill-color);\n",
              "    }\n",
              "    40% {\n",
              "      border-color: transparent;\n",
              "      border-right-color: var(--fill-color);\n",
              "      border-top-color: var(--fill-color);\n",
              "    }\n",
              "    60% {\n",
              "      border-color: transparent;\n",
              "      border-right-color: var(--fill-color);\n",
              "    }\n",
              "    80% {\n",
              "      border-color: transparent;\n",
              "      border-right-color: var(--fill-color);\n",
              "      border-bottom-color: var(--fill-color);\n",
              "    }\n",
              "    90% {\n",
              "      border-color: transparent;\n",
              "      border-bottom-color: var(--fill-color);\n",
              "    }\n",
              "  }\n",
              "</style>\n",
              "\n",
              "  <script>\n",
              "    async function quickchart(key) {\n",
              "      const quickchartButtonEl =\n",
              "        document.querySelector('#' + key + ' button');\n",
              "      quickchartButtonEl.disabled = true;  // To prevent multiple clicks.\n",
              "      quickchartButtonEl.classList.add('colab-df-spinner');\n",
              "      try {\n",
              "        const charts = await google.colab.kernel.invokeFunction(\n",
              "            'suggestCharts', [key], {});\n",
              "      } catch (error) {\n",
              "        console.error('Error during call to suggestCharts:', error);\n",
              "      }\n",
              "      quickchartButtonEl.classList.remove('colab-df-spinner');\n",
              "      quickchartButtonEl.classList.add('colab-df-quickchart-complete');\n",
              "    }\n",
              "    (() => {\n",
              "      let quickchartButtonEl =\n",
              "        document.querySelector('#df-a5b75701-a8b2-407c-a697-2f08a436740f button');\n",
              "      quickchartButtonEl.style.display =\n",
              "        google.colab.kernel.accessAllowed ? 'block' : 'none';\n",
              "    })();\n",
              "  </script>\n",
              "</div>\n",
              "\n",
              "    </div>\n",
              "  </div>\n"
            ]
          },
          "metadata": {},
          "execution_count": 5
        }
      ]
    },
    {
      "cell_type": "code",
      "source": [
        "df.isnull().sum()"
      ],
      "metadata": {
        "colab": {
          "base_uri": "https://localhost:8080/"
        },
        "id": "WC1dAF0OKvkw",
        "outputId": "35596be0-9781-4bc6-abd1-cf4f4fc2a9ea"
      },
      "execution_count": null,
      "outputs": [
        {
          "output_type": "execute_result",
          "data": {
            "text/plain": [
              "show_id            0\n",
              "type               0\n",
              "title              0\n",
              "director        2634\n",
              "cast             825\n",
              "country          831\n",
              "date_added        10\n",
              "release_year       0\n",
              "rating             4\n",
              "duration           3\n",
              "listed_in          0\n",
              "description        0\n",
              "dtype: int64"
            ]
          },
          "metadata": {},
          "execution_count": 6
        }
      ]
    },
    {
      "cell_type": "markdown",
      "source": [
        "First five rows"
      ],
      "metadata": {
        "id": "-pZY5s1cBzJy"
      }
    },
    {
      "cell_type": "code",
      "source": [
        "df.head()"
      ],
      "metadata": {
        "colab": {
          "base_uri": "https://localhost:8080/",
          "height": 327
        },
        "id": "FC6izMF2_hqi",
        "outputId": "e5251370-ba73-4447-a49c-dd78156fd173"
      },
      "execution_count": null,
      "outputs": [
        {
          "output_type": "execute_result",
          "data": {
            "text/plain": [
              "  show_id     type                  title         director  \\\n",
              "0      s1    Movie   Dick Johnson Is Dead  Kirsten Johnson   \n",
              "1      s2  TV Show          Blood & Water              NaN   \n",
              "2      s3  TV Show              Ganglands  Julien Leclercq   \n",
              "3      s4  TV Show  Jailbirds New Orleans              NaN   \n",
              "4      s5  TV Show           Kota Factory              NaN   \n",
              "\n",
              "                                                cast        country  \\\n",
              "0                                                NaN  United States   \n",
              "1  Ama Qamata, Khosi Ngema, Gail Mabalane, Thaban...   South Africa   \n",
              "2  Sami Bouajila, Tracy Gotoas, Samuel Jouy, Nabi...            NaN   \n",
              "3                                                NaN            NaN   \n",
              "4  Mayur More, Jitendra Kumar, Ranjan Raj, Alam K...          India   \n",
              "\n",
              "           date_added  release_year rating   duration  \\\n",
              "0  September 25, 2021          2020  PG-13     90 min   \n",
              "1  September 24, 2021          2021  TV-MA  2 Seasons   \n",
              "2  September 24, 2021          2021  TV-MA   1 Season   \n",
              "3  September 24, 2021          2021  TV-MA   1 Season   \n",
              "4  September 24, 2021          2021  TV-MA  2 Seasons   \n",
              "\n",
              "                                           listed_in  \\\n",
              "0                                      Documentaries   \n",
              "1    International TV Shows, TV Dramas, TV Mysteries   \n",
              "2  Crime TV Shows, International TV Shows, TV Act...   \n",
              "3                             Docuseries, Reality TV   \n",
              "4  International TV Shows, Romantic TV Shows, TV ...   \n",
              "\n",
              "                                         description  \n",
              "0  As her father nears the end of his life, filmm...  \n",
              "1  After crossing paths at a party, a Cape Town t...  \n",
              "2  To protect his family from a powerful drug lor...  \n",
              "3  Feuds, flirtations and toilet talk go down amo...  \n",
              "4  In a city of coaching centers known to train I...  "
            ],
            "text/html": [
              "\n",
              "  <div id=\"df-982f25fc-12d8-4ccd-98f5-ce2c1ad31e38\" class=\"colab-df-container\">\n",
              "    <div>\n",
              "<style scoped>\n",
              "    .dataframe tbody tr th:only-of-type {\n",
              "        vertical-align: middle;\n",
              "    }\n",
              "\n",
              "    .dataframe tbody tr th {\n",
              "        vertical-align: top;\n",
              "    }\n",
              "\n",
              "    .dataframe thead th {\n",
              "        text-align: right;\n",
              "    }\n",
              "</style>\n",
              "<table border=\"1\" class=\"dataframe\">\n",
              "  <thead>\n",
              "    <tr style=\"text-align: right;\">\n",
              "      <th></th>\n",
              "      <th>show_id</th>\n",
              "      <th>type</th>\n",
              "      <th>title</th>\n",
              "      <th>director</th>\n",
              "      <th>cast</th>\n",
              "      <th>country</th>\n",
              "      <th>date_added</th>\n",
              "      <th>release_year</th>\n",
              "      <th>rating</th>\n",
              "      <th>duration</th>\n",
              "      <th>listed_in</th>\n",
              "      <th>description</th>\n",
              "    </tr>\n",
              "  </thead>\n",
              "  <tbody>\n",
              "    <tr>\n",
              "      <th>0</th>\n",
              "      <td>s1</td>\n",
              "      <td>Movie</td>\n",
              "      <td>Dick Johnson Is Dead</td>\n",
              "      <td>Kirsten Johnson</td>\n",
              "      <td>NaN</td>\n",
              "      <td>United States</td>\n",
              "      <td>September 25, 2021</td>\n",
              "      <td>2020</td>\n",
              "      <td>PG-13</td>\n",
              "      <td>90 min</td>\n",
              "      <td>Documentaries</td>\n",
              "      <td>As her father nears the end of his life, filmm...</td>\n",
              "    </tr>\n",
              "    <tr>\n",
              "      <th>1</th>\n",
              "      <td>s2</td>\n",
              "      <td>TV Show</td>\n",
              "      <td>Blood &amp; Water</td>\n",
              "      <td>NaN</td>\n",
              "      <td>Ama Qamata, Khosi Ngema, Gail Mabalane, Thaban...</td>\n",
              "      <td>South Africa</td>\n",
              "      <td>September 24, 2021</td>\n",
              "      <td>2021</td>\n",
              "      <td>TV-MA</td>\n",
              "      <td>2 Seasons</td>\n",
              "      <td>International TV Shows, TV Dramas, TV Mysteries</td>\n",
              "      <td>After crossing paths at a party, a Cape Town t...</td>\n",
              "    </tr>\n",
              "    <tr>\n",
              "      <th>2</th>\n",
              "      <td>s3</td>\n",
              "      <td>TV Show</td>\n",
              "      <td>Ganglands</td>\n",
              "      <td>Julien Leclercq</td>\n",
              "      <td>Sami Bouajila, Tracy Gotoas, Samuel Jouy, Nabi...</td>\n",
              "      <td>NaN</td>\n",
              "      <td>September 24, 2021</td>\n",
              "      <td>2021</td>\n",
              "      <td>TV-MA</td>\n",
              "      <td>1 Season</td>\n",
              "      <td>Crime TV Shows, International TV Shows, TV Act...</td>\n",
              "      <td>To protect his family from a powerful drug lor...</td>\n",
              "    </tr>\n",
              "    <tr>\n",
              "      <th>3</th>\n",
              "      <td>s4</td>\n",
              "      <td>TV Show</td>\n",
              "      <td>Jailbirds New Orleans</td>\n",
              "      <td>NaN</td>\n",
              "      <td>NaN</td>\n",
              "      <td>NaN</td>\n",
              "      <td>September 24, 2021</td>\n",
              "      <td>2021</td>\n",
              "      <td>TV-MA</td>\n",
              "      <td>1 Season</td>\n",
              "      <td>Docuseries, Reality TV</td>\n",
              "      <td>Feuds, flirtations and toilet talk go down amo...</td>\n",
              "    </tr>\n",
              "    <tr>\n",
              "      <th>4</th>\n",
              "      <td>s5</td>\n",
              "      <td>TV Show</td>\n",
              "      <td>Kota Factory</td>\n",
              "      <td>NaN</td>\n",
              "      <td>Mayur More, Jitendra Kumar, Ranjan Raj, Alam K...</td>\n",
              "      <td>India</td>\n",
              "      <td>September 24, 2021</td>\n",
              "      <td>2021</td>\n",
              "      <td>TV-MA</td>\n",
              "      <td>2 Seasons</td>\n",
              "      <td>International TV Shows, Romantic TV Shows, TV ...</td>\n",
              "      <td>In a city of coaching centers known to train I...</td>\n",
              "    </tr>\n",
              "  </tbody>\n",
              "</table>\n",
              "</div>\n",
              "    <div class=\"colab-df-buttons\">\n",
              "\n",
              "  <div class=\"colab-df-container\">\n",
              "    <button class=\"colab-df-convert\" onclick=\"convertToInteractive('df-982f25fc-12d8-4ccd-98f5-ce2c1ad31e38')\"\n",
              "            title=\"Convert this dataframe to an interactive table.\"\n",
              "            style=\"display:none;\">\n",
              "\n",
              "  <svg xmlns=\"http://www.w3.org/2000/svg\" height=\"24px\" viewBox=\"0 -960 960 960\">\n",
              "    <path d=\"M120-120v-720h720v720H120Zm60-500h600v-160H180v160Zm220 220h160v-160H400v160Zm0 220h160v-160H400v160ZM180-400h160v-160H180v160Zm440 0h160v-160H620v160ZM180-180h160v-160H180v160Zm440 0h160v-160H620v160Z\"/>\n",
              "  </svg>\n",
              "    </button>\n",
              "\n",
              "  <style>\n",
              "    .colab-df-container {\n",
              "      display:flex;\n",
              "      gap: 12px;\n",
              "    }\n",
              "\n",
              "    .colab-df-convert {\n",
              "      background-color: #E8F0FE;\n",
              "      border: none;\n",
              "      border-radius: 50%;\n",
              "      cursor: pointer;\n",
              "      display: none;\n",
              "      fill: #1967D2;\n",
              "      height: 32px;\n",
              "      padding: 0 0 0 0;\n",
              "      width: 32px;\n",
              "    }\n",
              "\n",
              "    .colab-df-convert:hover {\n",
              "      background-color: #E2EBFA;\n",
              "      box-shadow: 0px 1px 2px rgba(60, 64, 67, 0.3), 0px 1px 3px 1px rgba(60, 64, 67, 0.15);\n",
              "      fill: #174EA6;\n",
              "    }\n",
              "\n",
              "    .colab-df-buttons div {\n",
              "      margin-bottom: 4px;\n",
              "    }\n",
              "\n",
              "    [theme=dark] .colab-df-convert {\n",
              "      background-color: #3B4455;\n",
              "      fill: #D2E3FC;\n",
              "    }\n",
              "\n",
              "    [theme=dark] .colab-df-convert:hover {\n",
              "      background-color: #434B5C;\n",
              "      box-shadow: 0px 1px 3px 1px rgba(0, 0, 0, 0.15);\n",
              "      filter: drop-shadow(0px 1px 2px rgba(0, 0, 0, 0.3));\n",
              "      fill: #FFFFFF;\n",
              "    }\n",
              "  </style>\n",
              "\n",
              "    <script>\n",
              "      const buttonEl =\n",
              "        document.querySelector('#df-982f25fc-12d8-4ccd-98f5-ce2c1ad31e38 button.colab-df-convert');\n",
              "      buttonEl.style.display =\n",
              "        google.colab.kernel.accessAllowed ? 'block' : 'none';\n",
              "\n",
              "      async function convertToInteractive(key) {\n",
              "        const element = document.querySelector('#df-982f25fc-12d8-4ccd-98f5-ce2c1ad31e38');\n",
              "        const dataTable =\n",
              "          await google.colab.kernel.invokeFunction('convertToInteractive',\n",
              "                                                    [key], {});\n",
              "        if (!dataTable) return;\n",
              "\n",
              "        const docLinkHtml = 'Like what you see? Visit the ' +\n",
              "          '<a target=\"_blank\" href=https://colab.research.google.com/notebooks/data_table.ipynb>data table notebook</a>'\n",
              "          + ' to learn more about interactive tables.';\n",
              "        element.innerHTML = '';\n",
              "        dataTable['output_type'] = 'display_data';\n",
              "        await google.colab.output.renderOutput(dataTable, element);\n",
              "        const docLink = document.createElement('div');\n",
              "        docLink.innerHTML = docLinkHtml;\n",
              "        element.appendChild(docLink);\n",
              "      }\n",
              "    </script>\n",
              "  </div>\n",
              "\n",
              "\n",
              "<div id=\"df-7452bb0d-d92d-4bb3-9456-5a773eca4f04\">\n",
              "  <button class=\"colab-df-quickchart\" onclick=\"quickchart('df-7452bb0d-d92d-4bb3-9456-5a773eca4f04')\"\n",
              "            title=\"Suggest charts\"\n",
              "            style=\"display:none;\">\n",
              "\n",
              "<svg xmlns=\"http://www.w3.org/2000/svg\" height=\"24px\"viewBox=\"0 0 24 24\"\n",
              "     width=\"24px\">\n",
              "    <g>\n",
              "        <path d=\"M19 3H5c-1.1 0-2 .9-2 2v14c0 1.1.9 2 2 2h14c1.1 0 2-.9 2-2V5c0-1.1-.9-2-2-2zM9 17H7v-7h2v7zm4 0h-2V7h2v10zm4 0h-2v-4h2v4z\"/>\n",
              "    </g>\n",
              "</svg>\n",
              "  </button>\n",
              "\n",
              "<style>\n",
              "  .colab-df-quickchart {\n",
              "      --bg-color: #E8F0FE;\n",
              "      --fill-color: #1967D2;\n",
              "      --hover-bg-color: #E2EBFA;\n",
              "      --hover-fill-color: #174EA6;\n",
              "      --disabled-fill-color: #AAA;\n",
              "      --disabled-bg-color: #DDD;\n",
              "  }\n",
              "\n",
              "  [theme=dark] .colab-df-quickchart {\n",
              "      --bg-color: #3B4455;\n",
              "      --fill-color: #D2E3FC;\n",
              "      --hover-bg-color: #434B5C;\n",
              "      --hover-fill-color: #FFFFFF;\n",
              "      --disabled-bg-color: #3B4455;\n",
              "      --disabled-fill-color: #666;\n",
              "  }\n",
              "\n",
              "  .colab-df-quickchart {\n",
              "    background-color: var(--bg-color);\n",
              "    border: none;\n",
              "    border-radius: 50%;\n",
              "    cursor: pointer;\n",
              "    display: none;\n",
              "    fill: var(--fill-color);\n",
              "    height: 32px;\n",
              "    padding: 0;\n",
              "    width: 32px;\n",
              "  }\n",
              "\n",
              "  .colab-df-quickchart:hover {\n",
              "    background-color: var(--hover-bg-color);\n",
              "    box-shadow: 0 1px 2px rgba(60, 64, 67, 0.3), 0 1px 3px 1px rgba(60, 64, 67, 0.15);\n",
              "    fill: var(--button-hover-fill-color);\n",
              "  }\n",
              "\n",
              "  .colab-df-quickchart-complete:disabled,\n",
              "  .colab-df-quickchart-complete:disabled:hover {\n",
              "    background-color: var(--disabled-bg-color);\n",
              "    fill: var(--disabled-fill-color);\n",
              "    box-shadow: none;\n",
              "  }\n",
              "\n",
              "  .colab-df-spinner {\n",
              "    border: 2px solid var(--fill-color);\n",
              "    border-color: transparent;\n",
              "    border-bottom-color: var(--fill-color);\n",
              "    animation:\n",
              "      spin 1s steps(1) infinite;\n",
              "  }\n",
              "\n",
              "  @keyframes spin {\n",
              "    0% {\n",
              "      border-color: transparent;\n",
              "      border-bottom-color: var(--fill-color);\n",
              "      border-left-color: var(--fill-color);\n",
              "    }\n",
              "    20% {\n",
              "      border-color: transparent;\n",
              "      border-left-color: var(--fill-color);\n",
              "      border-top-color: var(--fill-color);\n",
              "    }\n",
              "    30% {\n",
              "      border-color: transparent;\n",
              "      border-left-color: var(--fill-color);\n",
              "      border-top-color: var(--fill-color);\n",
              "      border-right-color: var(--fill-color);\n",
              "    }\n",
              "    40% {\n",
              "      border-color: transparent;\n",
              "      border-right-color: var(--fill-color);\n",
              "      border-top-color: var(--fill-color);\n",
              "    }\n",
              "    60% {\n",
              "      border-color: transparent;\n",
              "      border-right-color: var(--fill-color);\n",
              "    }\n",
              "    80% {\n",
              "      border-color: transparent;\n",
              "      border-right-color: var(--fill-color);\n",
              "      border-bottom-color: var(--fill-color);\n",
              "    }\n",
              "    90% {\n",
              "      border-color: transparent;\n",
              "      border-bottom-color: var(--fill-color);\n",
              "    }\n",
              "  }\n",
              "</style>\n",
              "\n",
              "  <script>\n",
              "    async function quickchart(key) {\n",
              "      const quickchartButtonEl =\n",
              "        document.querySelector('#' + key + ' button');\n",
              "      quickchartButtonEl.disabled = true;  // To prevent multiple clicks.\n",
              "      quickchartButtonEl.classList.add('colab-df-spinner');\n",
              "      try {\n",
              "        const charts = await google.colab.kernel.invokeFunction(\n",
              "            'suggestCharts', [key], {});\n",
              "      } catch (error) {\n",
              "        console.error('Error during call to suggestCharts:', error);\n",
              "      }\n",
              "      quickchartButtonEl.classList.remove('colab-df-spinner');\n",
              "      quickchartButtonEl.classList.add('colab-df-quickchart-complete');\n",
              "    }\n",
              "    (() => {\n",
              "      let quickchartButtonEl =\n",
              "        document.querySelector('#df-7452bb0d-d92d-4bb3-9456-5a773eca4f04 button');\n",
              "      quickchartButtonEl.style.display =\n",
              "        google.colab.kernel.accessAllowed ? 'block' : 'none';\n",
              "    })();\n",
              "  </script>\n",
              "</div>\n",
              "\n",
              "    </div>\n",
              "  </div>\n"
            ]
          },
          "metadata": {},
          "execution_count": 7
        }
      ]
    },
    {
      "cell_type": "code",
      "source": [
        "movies_df = df[df['type'] == 'Movie']"
      ],
      "metadata": {
        "id": "OX24_oSBM3sl"
      },
      "execution_count": null,
      "outputs": []
    },
    {
      "cell_type": "code",
      "source": [
        "release_years = movies_df['release_year']"
      ],
      "metadata": {
        "id": "bjFYWg0xM3Ie"
      },
      "execution_count": null,
      "outputs": []
    },
    {
      "cell_type": "code",
      "source": [
        "year = df['release_year']"
      ],
      "metadata": {
        "id": "U7R1KycI_sfI"
      },
      "execution_count": null,
      "outputs": []
    },
    {
      "cell_type": "markdown",
      "source": [
        "Number of movies released per year"
      ],
      "metadata": {
        "id": "m0Fx8SRYB53L"
      }
    },
    {
      "cell_type": "code",
      "source": [
        "movies_per_year = release_years.value_counts().sort_index()\n",
        "movies_per_year"
      ],
      "metadata": {
        "colab": {
          "base_uri": "https://localhost:8080/"
        },
        "id": "GxHb8XEbBft2",
        "outputId": "b32b4db0-bc9b-4893-fae4-72ce1cade2d8"
      },
      "execution_count": null,
      "outputs": [
        {
          "output_type": "execute_result",
          "data": {
            "text/plain": [
              "1942      2\n",
              "1943      3\n",
              "1944      3\n",
              "1945      3\n",
              "1946      1\n",
              "       ... \n",
              "2017    767\n",
              "2018    767\n",
              "2019    633\n",
              "2020    517\n",
              "2021    277\n",
              "Name: release_year, Length: 73, dtype: int64"
            ]
          },
          "metadata": {},
          "execution_count": 11
        }
      ]
    },
    {
      "cell_type": "markdown",
      "source": [
        "#How has the number of movies released per year changed over the last 20-30 years?"
      ],
      "metadata": {
        "id": "m-5sRGnN4Wdp"
      }
    },
    {
      "cell_type": "code",
      "source": [
        "plt.figure(figsize=(14, 6))\n",
        "plt.plot(movies_per_year.index, movies_per_year.values)\n",
        "plt.title('Number of Movies Released per Year (Movies Only)')\n",
        "plt.xlabel('Release Year')\n",
        "plt.ylabel('Number of Movies')\n",
        "plt.show()"
      ],
      "metadata": {
        "colab": {
          "base_uri": "https://localhost:8080/",
          "height": 564
        },
        "id": "har69XqXB0mh",
        "outputId": "831172e5-898b-4ff2-ebcf-fe30018bd1af"
      },
      "execution_count": null,
      "outputs": [
        {
          "output_type": "display_data",
          "data": {
            "text/plain": [
              "<Figure size 1400x600 with 1 Axes>"
            ],
            "image/png": "[encoded data removed]"
          },
          "metadata": {}
        }
      ]
    },
    {
      "cell_type": "markdown",
      "source": [
        "#Insights found"
      ],
      "metadata": {
        "id": "wW-ZAibcKGSk"
      }
    },
    {
      "cell_type": "markdown",
      "source": [
        "There is a gradual increase in the number of movies in the last 20 to 30 years ,\n",
        "there has been a rapid increase especially over the years 2000 , 2010 till around 2019 and has had a drastic fall in the number of releases after 2020"
      ],
      "metadata": {
        "id": "S31r8TDoIyiH"
      }
    },
    {
      "cell_type": "markdown",
      "source": [
        "Comparison of tv shows vs. movies."
      ],
      "metadata": {
        "id": "VpvC1Dex5AUX"
      }
    },
    {
      "cell_type": "code",
      "source": [
        "tv_shows_df = df[df['type'] == 'TV Show']"
      ],
      "metadata": {
        "id": "qmcZAFEdEj8C"
      },
      "execution_count": null,
      "outputs": []
    },
    {
      "cell_type": "markdown",
      "source": [
        "Count of number of Movies vs TV shows"
      ],
      "metadata": {
        "id": "oscAY8twCPAR"
      }
    },
    {
      "cell_type": "code",
      "source": [
        "type_counts = df['type'].value_counts()\n",
        "type_counts"
      ],
      "metadata": {
        "colab": {
          "base_uri": "https://localhost:8080/"
        },
        "id": "mqNr5Yc97yCD",
        "outputId": "4cffadda-1d9a-45fe-b9b7-f3ccafa239b6"
      },
      "execution_count": null,
      "outputs": [
        {
          "output_type": "execute_result",
          "data": {
            "text/plain": [
              "Movie      6131\n",
              "TV Show    2676\n",
              "Name: type, dtype: int64"
            ]
          },
          "metadata": {},
          "execution_count": 51
        }
      ]
    },
    {
      "cell_type": "markdown",
      "source": [
        "Comparision of TV shows and Movies on Netflix"
      ],
      "metadata": {
        "id": "6OOyCSMBCcvV"
      }
    },
    {
      "cell_type": "code",
      "source": [
        "plt.figure(figsize= (2,3))\n",
        "sns.barplot(x=type_counts.index, y=type_counts.values)\n",
        "plt.title('Comparison of TV Shows and Movies on Netflix')\n",
        "plt.xlabel('Type')\n",
        "plt.ylabel('Number of Titles')\n",
        "plt.show()"
      ],
      "metadata": {
        "colab": {
          "base_uri": "https://localhost:8080/",
          "height": 333
        },
        "id": "76wQIcbw6eF-",
        "outputId": "35ba7f39-6191-49de-eca7-c71c6002a906"
      },
      "execution_count": null,
      "outputs": [
        {
          "output_type": "display_data",
          "data": {
            "text/plain": [
              "<Figure size 200x300 with 1 Axes>"
            ],
            "image/png": "[encoded data removed]"
          },
          "metadata": {}
        }
      ]
    },
    {
      "cell_type": "markdown",
      "source": [
        "#Insights found"
      ],
      "metadata": {
        "id": "h57YY_XyKTgi"
      }
    },
    {
      "cell_type": "markdown",
      "source": [
        "The number of movies available in netflix is higher than the number of TV Shows in a comparision between the two"
      ],
      "metadata": {
        "id": "NghLo5A3KYC8"
      }
    },
    {
      "cell_type": "markdown",
      "source": [
        "#What is the best time to launch a TV show?"
      ],
      "metadata": {
        "id": "RPSIxFh-AcKy"
      }
    },
    {
      "cell_type": "code",
      "source": [
        "# Extracting the 'date_added' column from the DataFrame\n",
        "date_added = pd.to_datetime(tv_shows_df['date_added'], errors='coerce')"
      ],
      "metadata": {
        "id": "_KfXbJPm8z6h"
      },
      "execution_count": null,
      "outputs": []
    },
    {
      "cell_type": "code",
      "source": [
        "# Extracting the month from the 'date_added' column\n",
        "tv_shows_df['Month_added'] = date_added.dt.month_name()"
      ],
      "metadata": {
        "colab": {
          "base_uri": "https://localhost:8080/"
        },
        "id": "hGTSkoJmCbZm",
        "outputId": "3f3bc0ea-5aa6-4b9d-a737-fdd73e2eec60"
      },
      "execution_count": null,
      "outputs": [
        {
          "output_type": "stream",
          "name": "stderr",
          "text": [
            "<ipython-input-20-f68e1b7143ef>:2: SettingWithCopyWarning: \n",
            "A value is trying to be set on a copy of a slice from a DataFrame.\n",
            "Try using .loc[row_indexer,col_indexer] = value instead\n",
            "\n",
            "See the caveats in the documentation: https://pandas.pydata.org/pandas-docs/stable/user_guide/indexing.html#returning-a-view-versus-a-copy\n",
            "  tv_shows_df['Month_added'] = date_added.dt.month_name()\n"
          ]
        }
      ]
    },
    {
      "cell_type": "markdown",
      "source": [
        "Counting the number of TV shows added per month"
      ],
      "metadata": {
        "id": "KhpPDdIqDIox"
      }
    },
    {
      "cell_type": "code",
      "source": [
        "tv_shows_by_month = tv_shows_df['Month_added'].value_counts()\n",
        "tv_shows_by_month"
      ],
      "metadata": {
        "colab": {
          "base_uri": "https://localhost:8080/"
        },
        "id": "cY-gdSvaCsN7",
        "outputId": "427d5507-c2f8-4df5-9912-fd8a57a9846d"
      },
      "execution_count": null,
      "outputs": [
        {
          "output_type": "execute_result",
          "data": {
            "text/plain": [
              "December     266\n",
              "July         262\n",
              "September    251\n",
              "August       236\n",
              "June         236\n",
              "October      215\n",
              "April        214\n",
              "March        213\n",
              "November     207\n",
              "May          193\n",
              "January      192\n",
              "February     181\n",
              "Name: Month_added, dtype: int64"
            ]
          },
          "metadata": {},
          "execution_count": 52
        }
      ]
    },
    {
      "cell_type": "markdown",
      "source": [
        "Ordering the months by calendar order"
      ],
      "metadata": {
        "id": "oWHyV1u4DobC"
      }
    },
    {
      "cell_type": "code",
      "source": [
        "months_order = ['January', 'February', 'March', 'April', 'May', 'June', 'July', 'August', 'September', 'October', 'November', 'December']\n",
        "tv_shows_by_month = tv_shows_by_month.reindex(months_order)\n",
        "tv_shows_by_month"
      ],
      "metadata": {
        "colab": {
          "base_uri": "https://localhost:8080/"
        },
        "id": "g8bjkKxPCv24",
        "outputId": "b5e809a4-d4bf-4b5b-af59-7e99afdbe49f"
      },
      "execution_count": null,
      "outputs": [
        {
          "output_type": "execute_result",
          "data": {
            "text/plain": [
              "January      192\n",
              "February     181\n",
              "March        213\n",
              "April        214\n",
              "May          193\n",
              "June         236\n",
              "July         262\n",
              "August       236\n",
              "September    251\n",
              "October      215\n",
              "November     207\n",
              "December     266\n",
              "Name: Month_added, dtype: int64"
            ]
          },
          "metadata": {},
          "execution_count": 53
        }
      ]
    },
    {
      "cell_type": "markdown",
      "source": [
        "Plotting the data"
      ],
      "metadata": {
        "id": "Shd8E5XGDldf"
      }
    },
    {
      "cell_type": "code",
      "source": [
        "\n",
        "plt.figure(figsize=(12, 6))\n",
        "sns.barplot(x=tv_shows_by_month.index, y=tv_shows_by_month.values)\n",
        "plt.title('Number of TV Shows Added Each Month on Netflix')\n",
        "plt.xlabel('Month')\n",
        "plt.ylabel('Number of TV Shows')\n",
        "plt.show()"
      ],
      "metadata": {
        "colab": {
          "base_uri": "https://localhost:8080/",
          "height": 564
        },
        "id": "bjEMvga_Cy2z",
        "outputId": "7ab3abe2-b253-4ea8-c0a0-9bfe2bffc131"
      },
      "execution_count": null,
      "outputs": [
        {
          "output_type": "display_data",
          "data": {
            "text/plain": [
              "<Figure size 1200x600 with 1 Axes>"
            ],
            "image/png": "[encoded data removed]"
          },
          "metadata": {}
        }
      ]
    },
    {
      "cell_type": "markdown",
      "source": [
        "#Insights"
      ],
      "metadata": {
        "id": "vAPRyf6kMNuf"
      }
    },
    {
      "cell_type": "markdown",
      "source": [
        "The best time to release a TV show would be around December according to me since most of the students and working proffessional would be having a holiday and loads of time to discover and watch new content , or even during other parts of the month which have festive seasons"
      ],
      "metadata": {
        "id": "pMmmKM61MRJc"
      }
    },
    {
      "cell_type": "markdown",
      "source": [
        "#Analysis of actors/directors of different types of shows/movies"
      ],
      "metadata": {
        "id": "ND5nWJvX8fxW"
      }
    },
    {
      "cell_type": "markdown",
      "source": [
        "Number of missing Cast/Actors"
      ],
      "metadata": {
        "id": "H6BLOa6tHeip"
      }
    },
    {
      "cell_type": "code",
      "source": [
        "\n",
        "missing_cast = df['cast'].isnull().sum()\n",
        "missing_cast"
      ],
      "metadata": {
        "colab": {
          "base_uri": "https://localhost:8080/"
        },
        "id": "VCxwKNC_C1sv",
        "outputId": "9a83ff33-ff43-4ff4-c4b2-3acff9ac706f"
      },
      "execution_count": null,
      "outputs": [
        {
          "output_type": "execute_result",
          "data": {
            "text/plain": [
              "825"
            ]
          },
          "metadata": {},
          "execution_count": 63
        }
      ]
    },
    {
      "cell_type": "markdown",
      "source": [
        "Number of missing directors"
      ],
      "metadata": {
        "id": "8IbUv-YxHhCQ"
      }
    },
    {
      "cell_type": "code",
      "source": [
        "missing_director = df['director'].isnull().sum()\n",
        "missing_director"
      ],
      "metadata": {
        "colab": {
          "base_uri": "https://localhost:8080/"
        },
        "id": "Dr0xhGzR9BDk",
        "outputId": "0b126f76-a998-49a8-fc05-d143ffd2b6b4"
      },
      "execution_count": null,
      "outputs": [
        {
          "output_type": "execute_result",
          "data": {
            "text/plain": [
              "2634"
            ]
          },
          "metadata": {},
          "execution_count": 64
        }
      ]
    },
    {
      "cell_type": "code",
      "source": [
        "# Split the 'actors' and 'directors' columns into lists\n",
        "df['cast_list'] = df['cast'].str.split(', ')\n",
        "df['director_list'] = df['director'].str.split(', ')"
      ],
      "metadata": {
        "id": "Zu5qbBF69r_e"
      },
      "execution_count": null,
      "outputs": []
    },
    {
      "cell_type": "markdown",
      "source": [
        "Count the occurrences of each actor and director"
      ],
      "metadata": {
        "id": "cgePRTahITdk"
      }
    },
    {
      "cell_type": "code",
      "source": [
        "\n",
        "cast_counts = pd.Series([cast for sublist in df['cast_list'].dropna() for cast in sublist]).value_counts()\n",
        "cast_counts"
      ],
      "metadata": {
        "colab": {
          "base_uri": "https://localhost:8080/"
        },
        "id": "TyzedTBG947V",
        "outputId": "988cefb9-1883-41e6-e0d3-299ee7fc1ead"
      },
      "execution_count": null,
      "outputs": [
        {
          "output_type": "execute_result",
          "data": {
            "text/plain": [
              "Anupam Kher                43\n",
              "Shah Rukh Khan             35\n",
              "Julie Tejwani              33\n",
              "Naseeruddin Shah           32\n",
              "Takahiro Sakurai           32\n",
              "                           ..\n",
              "Maryam Zaree                1\n",
              "Melanie Straub              1\n",
              "Gabriela Maria Schmeide     1\n",
              "Helena Zengel               1\n",
              "Chittaranjan Tripathy       1\n",
              "Length: 36439, dtype: int64"
            ]
          },
          "metadata": {},
          "execution_count": 69
        }
      ]
    },
    {
      "cell_type": "code",
      "source": [
        "director_counts = pd.Series([director for sublist in df['director_list'].dropna() for director in sublist]).value_counts()\n",
        "director_counts"
      ],
      "metadata": {
        "colab": {
          "base_uri": "https://localhost:8080/"
        },
        "id": "gxz4FX5qHwCL",
        "outputId": "a49d9d00-46f7-48ab-d6a4-6ab6c76ee1c3"
      },
      "execution_count": null,
      "outputs": [
        {
          "output_type": "execute_result",
          "data": {
            "text/plain": [
              "Rajiv Chilaka     22\n",
              "Jan Suter         21\n",
              "Raúl Campos       19\n",
              "Suhas Kadav       16\n",
              "Marcus Raboy      16\n",
              "                  ..\n",
              "Raymie Muzquiz     1\n",
              "Stu Livingston     1\n",
              "Joe Menendez       1\n",
              "Eric Bross         1\n",
              "Mozez Singh        1\n",
              "Length: 4993, dtype: int64"
            ]
          },
          "metadata": {},
          "execution_count": 66
        }
      ]
    },
    {
      "cell_type": "markdown",
      "source": [
        "Top 10 actors and directors"
      ],
      "metadata": {
        "id": "-FIWs5zdIHXG"
      }
    },
    {
      "cell_type": "code",
      "source": [
        "top_cast = cast_counts.head(10)\n",
        "top_cast\n"
      ],
      "metadata": {
        "colab": {
          "base_uri": "https://localhost:8080/"
        },
        "id": "AEyXfUUB9830",
        "outputId": "28719029-77bc-4b45-8406-e3a4fc20ada0"
      },
      "execution_count": null,
      "outputs": [
        {
          "output_type": "execute_result",
          "data": {
            "text/plain": [
              "Anupam Kher         43\n",
              "Shah Rukh Khan      35\n",
              "Julie Tejwani       33\n",
              "Naseeruddin Shah    32\n",
              "Takahiro Sakurai    32\n",
              "Rupa Bhimani        31\n",
              "Akshay Kumar        30\n",
              "Om Puri             30\n",
              "Yuki Kaji           29\n",
              "Paresh Rawal        28\n",
              "dtype: int64"
            ]
          },
          "metadata": {},
          "execution_count": 67
        }
      ]
    },
    {
      "cell_type": "code",
      "source": [
        "top_director = director_counts.head(10)\n",
        "top_director"
      ],
      "metadata": {
        "colab": {
          "base_uri": "https://localhost:8080/"
        },
        "id": "4C9Mvz-3H7z5",
        "outputId": "d5fa6caa-c0ae-4bcf-b8cf-ecd13b2b8174"
      },
      "execution_count": null,
      "outputs": [
        {
          "output_type": "execute_result",
          "data": {
            "text/plain": [
              "Rajiv Chilaka          22\n",
              "Jan Suter              21\n",
              "Raúl Campos            19\n",
              "Suhas Kadav            16\n",
              "Marcus Raboy           16\n",
              "Jay Karas              15\n",
              "Cathy Garcia-Molina    13\n",
              "Jay Chapman            12\n",
              "Youssef Chahine        12\n",
              "Martin Scorsese        12\n",
              "dtype: int64"
            ]
          },
          "metadata": {},
          "execution_count": 68
        }
      ]
    },
    {
      "cell_type": "markdown",
      "source": [
        "Plotting the Graph"
      ],
      "metadata": {
        "id": "ZXiCK4N8IM6_"
      }
    },
    {
      "cell_type": "code",
      "source": [
        "plt.figure(figsize=(14, 6))\n",
        "sns.barplot(x=top_cast.values, y=top_cast.index, palette='viridis')\n",
        "plt.title('Top 10 Actors/Cast in Netflix Shows/Movies')\n",
        "plt.xlabel('Number of Appearances')\n",
        "plt.ylabel('Actor/Cast')\n",
        "plt.show()\n"
      ],
      "metadata": {
        "colab": {
          "base_uri": "https://localhost:8080/",
          "height": 564
        },
        "id": "13q81gtf-Zw8",
        "outputId": "64d58f09-832c-4618-fad3-df79b1566608"
      },
      "execution_count": null,
      "outputs": [
        {
          "output_type": "display_data",
          "data": {
            "text/plain": [
              "<Figure size 1400x600 with 1 Axes>"
            ],
            "image/png": "[encoded data removed]"
          },
          "metadata": {}
        }
      ]
    },
    {
      "cell_type": "code",
      "source": [
        "plt.figure(figsize=(14, 6))\n",
        "sns.barplot(x=top_director.values, y=top_director.index, palette='viridis')\n",
        "plt.title('Top 10 Directors in Netflix Shows/Movies')\n",
        "plt.xlabel('Number of Productions')\n",
        "plt.ylabel('Director')\n",
        "plt.show()"
      ],
      "metadata": {
        "colab": {
          "base_uri": "https://localhost:8080/",
          "height": 564
        },
        "id": "czV4bUgz-lCO",
        "outputId": "867c10a9-72f7-4fc8-f84c-ae1198de40f0"
      },
      "execution_count": null,
      "outputs": [
        {
          "output_type": "display_data",
          "data": {
            "text/plain": [
              "<Figure size 1400x600 with 1 Axes>"
            ],
            "image/png": "[encoded data removed]"
          },
          "metadata": {}
        }
      ]
    },
    {
      "cell_type": "markdown",
      "source": [
        "Does Netflix has more focus on TV Shows than movies in recent years"
      ],
      "metadata": {
        "id": "vWKDaeSJ-4n2"
      }
    },
    {
      "cell_type": "code",
      "source": [
        "tv_shows = df[df['type'] == 'TV Show']\n",
        "movies = df[df['type'] == 'Movie']"
      ],
      "metadata": {
        "id": "Vc58J_X2_eQr"
      },
      "execution_count": null,
      "outputs": []
    },
    {
      "cell_type": "markdown",
      "source": [
        "Count the number of TV shows"
      ],
      "metadata": {
        "id": "rgnqq1E5EGRC"
      }
    },
    {
      "cell_type": "code",
      "source": [
        "tv_shows_counts = tv_shows['release_year'].value_counts().sort_index()\n",
        "tv_shows_counts\n"
      ],
      "metadata": {
        "colab": {
          "base_uri": "https://localhost:8080/"
        },
        "id": "HiM5JwnW_iBo",
        "outputId": "b5ec0d99-7555-487b-b8a5-9673e85f79cc"
      },
      "execution_count": null,
      "outputs": [
        {
          "output_type": "execute_result",
          "data": {
            "text/plain": [
              "1925      1\n",
              "1945      1\n",
              "1946      1\n",
              "1963      1\n",
              "1967      1\n",
              "1972      1\n",
              "1974      1\n",
              "1977      1\n",
              "1979      1\n",
              "1981      1\n",
              "1985      1\n",
              "1986      2\n",
              "1988      2\n",
              "1989      1\n",
              "1990      3\n",
              "1991      1\n",
              "1992      3\n",
              "1993      4\n",
              "1994      2\n",
              "1995      2\n",
              "1996      3\n",
              "1997      4\n",
              "1998      4\n",
              "1999      7\n",
              "2000      4\n",
              "2001      5\n",
              "2002      7\n",
              "2003     10\n",
              "2004      9\n",
              "2005     13\n",
              "2006     14\n",
              "2007     14\n",
              "2008     23\n",
              "2009     34\n",
              "2010     40\n",
              "2011     40\n",
              "2012     64\n",
              "2013     63\n",
              "2014     88\n",
              "2015    162\n",
              "2016    244\n",
              "2017    265\n",
              "2018    380\n",
              "2019    397\n",
              "2020    436\n",
              "2021    315\n",
              "Name: release_year, dtype: int64"
            ]
          },
          "metadata": {},
          "execution_count": 54
        }
      ]
    },
    {
      "cell_type": "markdown",
      "source": [
        "Count the number of movies"
      ],
      "metadata": {
        "id": "28tFr6WoEG6s"
      }
    },
    {
      "cell_type": "code",
      "source": [
        "movies_counts = movies['release_year'].value_counts().sort_index()\n",
        "movies_counts"
      ],
      "metadata": {
        "colab": {
          "base_uri": "https://localhost:8080/"
        },
        "id": "vwCIY3srEAl_",
        "outputId": "f41d03af-06ec-4f84-d8ac-f642322089e2"
      },
      "execution_count": null,
      "outputs": [
        {
          "output_type": "execute_result",
          "data": {
            "text/plain": [
              "1942      2\n",
              "1943      3\n",
              "1944      3\n",
              "1945      3\n",
              "1946      1\n",
              "       ... \n",
              "2017    767\n",
              "2018    767\n",
              "2019    633\n",
              "2020    517\n",
              "2021    277\n",
              "Name: release_year, Length: 73, dtype: int64"
            ]
          },
          "metadata": {},
          "execution_count": 55
        }
      ]
    },
    {
      "cell_type": "code",
      "source": [
        "plt.figure(figsize=(3,2))\n",
        "sns.lineplot(x=tv_shows_counts.index, y=tv_shows_counts.values, label='TV Shows')\n",
        "sns.lineplot(x=movies_counts.index, y=movies_counts.values, label='Movies')\n",
        "plt.title('Distribution of TV Shows and Movies on Netflix Over the Years')\n",
        "plt.xlabel('Release Year')\n",
        "plt.ylabel('Number of Titles')\n",
        "plt.legend()\n",
        "plt.show()"
      ],
      "metadata": {
        "colab": {
          "base_uri": "https://localhost:8080/",
          "height": 256
        },
        "id": "cSeWs7yR-wVv",
        "outputId": "6d08a8cf-6ba5-4006-e989-d712faa458d1"
      },
      "execution_count": null,
      "outputs": [
        {
          "output_type": "display_data",
          "data": {
            "text/plain": [
              "<Figure size 300x200 with 1 Axes>"
            ],
            "image/png": "[encoded data removed]"
          },
          "metadata": {}
        }
      ]
    },
    {
      "cell_type": "markdown",
      "source": [
        "#Insights"
      ],
      "metadata": {
        "id": "a_Q4U6OiPFLH"
      }
    },
    {
      "cell_type": "markdown",
      "source": [
        "No netflix does not have more focus on TV Shows than Movies , as it is clearly shown in the graph the number of movies released is more than the number of TV Shows , it all falls down to the viewership at the end of the day, in this busy lifestyle people in general prefer watching more number of movies with family and during the weekends as the duration is less and are able to consume information in a short span of time , this also is profitable as this way more number of people are reached , where as TV shows are for people who can take time every day and watching long hours to consume the content"
      ],
      "metadata": {
        "id": "22dwOXlRNn0r"
      }
    },
    {
      "cell_type": "markdown",
      "source": [
        "#Understanding what content is available in different countries"
      ],
      "metadata": {
        "id": "gZA2kNV8Afof"
      }
    },
    {
      "cell_type": "markdown",
      "source": [
        "Counting the number of titles in each country"
      ],
      "metadata": {
        "id": "2OUndcUbEhk4"
      }
    },
    {
      "cell_type": "code",
      "source": [
        "country_counts = df['country'].value_counts()\n",
        "country_counts"
      ],
      "metadata": {
        "colab": {
          "base_uri": "https://localhost:8080/"
        },
        "id": "zAXA0Xuk_Q_7",
        "outputId": "aa088fec-dc97-42da-c947-0357a7a2380c"
      },
      "execution_count": null,
      "outputs": [
        {
          "output_type": "execute_result",
          "data": {
            "text/plain": [
              "United States                             2818\n",
              "India                                      972\n",
              "United Kingdom                             419\n",
              "Japan                                      245\n",
              "South Korea                                199\n",
              "                                          ... \n",
              "Romania, Bulgaria, Hungary                   1\n",
              "Uruguay, Guatemala                           1\n",
              "France, Senegal, Belgium                     1\n",
              "Mexico, United States, Spain, Colombia       1\n",
              "United Arab Emirates, Jordan                 1\n",
              "Name: country, Length: 748, dtype: int64"
            ]
          },
          "metadata": {},
          "execution_count": 56
        }
      ]
    },
    {
      "cell_type": "markdown",
      "source": [
        "Top 10 Countries with most content"
      ],
      "metadata": {
        "id": "t6vkLZfqEoLj"
      }
    },
    {
      "cell_type": "code",
      "source": [
        "top_countries = country_counts.head(10)\n",
        "top_countries"
      ],
      "metadata": {
        "colab": {
          "base_uri": "https://localhost:8080/"
        },
        "id": "Elze1ieeAkkl",
        "outputId": "66458c32-b2c6-4a45-a77a-414800a3470f"
      },
      "execution_count": null,
      "outputs": [
        {
          "output_type": "execute_result",
          "data": {
            "text/plain": [
              "United States     2818\n",
              "India              972\n",
              "United Kingdom     419\n",
              "Japan              245\n",
              "South Korea        199\n",
              "Canada             181\n",
              "Spain              145\n",
              "France             124\n",
              "Mexico             110\n",
              "Egypt              106\n",
              "Name: country, dtype: int64"
            ]
          },
          "metadata": {},
          "execution_count": 57
        }
      ]
    },
    {
      "cell_type": "code",
      "source": [
        "# Plotting the distribution of content across countries\n",
        "plt.figure(figsize=(12, 6))\n",
        "sns.barplot(x=top_countries.values, y=top_countries.index, palette='viridis')\n",
        "plt.title('Top 10 Countries with Most Content on Netflix')\n",
        "plt.xlabel('Number of Titles')\n",
        "plt.ylabel('Country')\n",
        "plt.show()"
      ],
      "metadata": {
        "colab": {
          "base_uri": "https://localhost:8080/",
          "height": 564
        },
        "id": "zFkA7BhnAnBf",
        "outputId": "f99889a3-c5a5-4caa-f151-6006573d7e57"
      },
      "execution_count": null,
      "outputs": [
        {
          "output_type": "display_data",
          "data": {
            "text/plain": [
              "<Figure size 1200x600 with 1 Axes>"
            ],
            "image/png": "[encoded data removed]"
          },
          "metadata": {}
        }
      ]
    },
    {
      "cell_type": "markdown",
      "source": [
        "#What type of content is available in different countries?"
      ],
      "metadata": {
        "id": "BiQmd6qLBLDG"
      }
    },
    {
      "cell_type": "code",
      "source": [
        "cross_tab = pd.crosstab(df['country'], df['type'])"
      ],
      "metadata": {
        "id": "0nPgbJZcBHHh"
      },
      "execution_count": null,
      "outputs": []
    },
    {
      "cell_type": "code",
      "source": [
        "# Selecting the top N countries and content types for better visualization\n",
        "top_countries = cross_tab.sum(axis=1).nlargest(10).index\n",
        "top_content_types = cross_tab.sum().nlargest(2).index"
      ],
      "metadata": {
        "id": "Qv8SZgYIAqAs"
      },
      "execution_count": null,
      "outputs": []
    },
    {
      "cell_type": "code",
      "source": [
        "# Filtering the cross-tabulation for the selected countries and content types\n",
        "filtered_cross_tab = cross_tab.loc[top_countries, top_content_types]"
      ],
      "metadata": {
        "id": "kEghlvp7BSaT"
      },
      "execution_count": null,
      "outputs": []
    },
    {
      "cell_type": "code",
      "source": [
        "plt.figure(figsize=(7,4))\n",
        "sns.heatmap(filtered_cross_tab, cmap='viridis', annot=True, fmt='d', linewidths=.5)\n",
        "plt.title('Distribution of Content Types Across Countries on Netflix')\n",
        "plt.xlabel('Content Type')\n",
        "plt.ylabel('Country')\n",
        "plt.show()"
      ],
      "metadata": {
        "colab": {
          "base_uri": "https://localhost:8080/",
          "height": 410
        },
        "id": "5K5i6nyXBVJa",
        "outputId": "7bc20e22-f654-4649-8ebb-74f4cff28caf"
      },
      "execution_count": null,
      "outputs": [
        {
          "output_type": "display_data",
          "data": {
            "text/plain": [
              "<Figure size 700x400 with 2 Axes>"
            ],
            "image/png": "[encoded data removed]"
          },
          "metadata": {}
        }
      ]
    },
    {
      "cell_type": "markdown",
      "source": [
        "#Insights"
      ],
      "metadata": {
        "id": "YPb7Gk0YRJ8v"
      }
    },
    {
      "cell_type": "markdown",
      "source": [
        "The content available in most countried including  US, India , Canada, Spain, France etc is movies which is more in number than compared to TV shows , where as countries like United Kingdom , Japan , South Korea ets produce a huge number of TV shows than movies , this shows that the TV shows from these countries have had a better fan base than the countries in a whole with respect the content"
      ],
      "metadata": {
        "id": "V6KMcuKEQImM"
      }
    },
    {
      "cell_type": "code",
      "source": [],
      "metadata": {
        "id": "km4L502pFY3R"
      },
      "execution_count": null,
      "outputs": []
    }
  ]
}